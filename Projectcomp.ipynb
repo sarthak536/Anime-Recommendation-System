{
 "cells": [
  {
   "cell_type": "code",
   "execution_count": 16,
   "id": "9d9908a6-8f30-4132-9fa1-f064af40a497",
   "metadata": {
    "id": "9d9908a6-8f30-4132-9fa1-f064af40a497",
    "outputId": "20a15c14-f638-4b57-a104-27f74c9f1233"
   },
   "outputs": [],
   "source": [
    "import numpy as np\n",
    "import pandas as pd\n",
    "import warnings\n",
    "warnings.simplefilter('ignore')\n",
    "anime = pd.read_csv('anime.csv')# !!  change path before using  !!\n",
    "anime.head(5)\n",
    "posters=anime[['main_picture']]\n"
   ]
  },
  {
   "cell_type": "code",
   "execution_count": 17,
   "id": "625fec14-3fb8-42c5-9b77-6d46afd68264",
   "metadata": {
    "id": "625fec14-3fb8-42c5-9b77-6d46afd68264",
    "outputId": "95dc07c0-7378-4ea2-f5db-d45f3f6130cf"
   },
   "outputs": [
    {
     "data": {
      "text/html": [
       "<div>\n",
       "<style scoped>\n",
       "    .dataframe tbody tr th:only-of-type {\n",
       "        vertical-align: middle;\n",
       "    }\n",
       "\n",
       "    .dataframe tbody tr th {\n",
       "        vertical-align: top;\n",
       "    }\n",
       "\n",
       "    .dataframe thead th {\n",
       "        text-align: right;\n",
       "    }\n",
       "</style>\n",
       "<table border=\"1\" class=\"dataframe\">\n",
       "  <thead>\n",
       "    <tr style=\"text-align: right;\">\n",
       "      <th></th>\n",
       "      <th>anime_id</th>\n",
       "      <th>title</th>\n",
       "      <th>genres</th>\n",
       "      <th>synopsis</th>\n",
       "      <th>producers</th>\n",
       "      <th>licensors</th>\n",
       "    </tr>\n",
       "  </thead>\n",
       "  <tbody>\n",
       "    <tr>\n",
       "      <th>0</th>\n",
       "      <td>5114</td>\n",
       "      <td>Fullmetal Alchemist: Brotherhood</td>\n",
       "      <td>['Action', 'Adventure', 'Drama', 'Fantasy']</td>\n",
       "      <td>After a horrific alchemy experiment goes wrong...</td>\n",
       "      <td>['Aniplex', 'Square Enix', 'Mainichi Broadcast...</td>\n",
       "      <td>['Funimation', 'Aniplex of America']</td>\n",
       "    </tr>\n",
       "    <tr>\n",
       "      <th>1</th>\n",
       "      <td>11061</td>\n",
       "      <td>Hunter x Hunter (2011)</td>\n",
       "      <td>['Action', 'Adventure', 'Fantasy']</td>\n",
       "      <td>Hunters devote themselves to accomplishing haz...</td>\n",
       "      <td>['VAP', 'Nippon Television Network', 'Shueisha']</td>\n",
       "      <td>['VIZ Media']</td>\n",
       "    </tr>\n",
       "    <tr>\n",
       "      <th>2</th>\n",
       "      <td>38524</td>\n",
       "      <td>Shingeki no Kyojin Season 3 Part 2</td>\n",
       "      <td>['Action', 'Drama']</td>\n",
       "      <td>Seeking to restore humanity's diminishing hope...</td>\n",
       "      <td>['Production I.G', 'Dentsu', 'Mainichi Broadca...</td>\n",
       "      <td>['Funimation']</td>\n",
       "    </tr>\n",
       "    <tr>\n",
       "      <th>3</th>\n",
       "      <td>9253</td>\n",
       "      <td>Steins;Gate</td>\n",
       "      <td>['Drama', 'Sci-Fi', 'Suspense']</td>\n",
       "      <td>Eccentric scientist Rintarou Okabe has a never...</td>\n",
       "      <td>['Frontier Works', 'Media Factory', 'Kadokawa ...</td>\n",
       "      <td>['Funimation']</td>\n",
       "    </tr>\n",
       "    <tr>\n",
       "      <th>4</th>\n",
       "      <td>28851</td>\n",
       "      <td>Koe no Katachi</td>\n",
       "      <td>['Award Winning', 'Drama']</td>\n",
       "      <td>As a wild youth, elementary school student Sho...</td>\n",
       "      <td>['Shochiku', 'Pony Canyon', 'Kodansha', 'ABC A...</td>\n",
       "      <td>['Eleven Arts', 'NYAV Post']</td>\n",
       "    </tr>\n",
       "    <tr>\n",
       "      <th>...</th>\n",
       "      <td>...</td>\n",
       "      <td>...</td>\n",
       "      <td>...</td>\n",
       "      <td>...</td>\n",
       "      <td>...</td>\n",
       "      <td>...</td>\n",
       "    </tr>\n",
       "    <tr>\n",
       "      <th>24980</th>\n",
       "      <td>54574</td>\n",
       "      <td>Seizoki</td>\n",
       "      <td>['Avant Garde']</td>\n",
       "      <td>This is an animation using the \"Kaki-mation\" t...</td>\n",
       "      <td>[]</td>\n",
       "      <td>[]</td>\n",
       "    </tr>\n",
       "    <tr>\n",
       "      <th>24981</th>\n",
       "      <td>56159</td>\n",
       "      <td>Kanshajou</td>\n",
       "      <td>[]</td>\n",
       "      <td>Music video for the song Kanshajou by Reiko Sa...</td>\n",
       "      <td>['NHK']</td>\n",
       "      <td>[]</td>\n",
       "    </tr>\n",
       "    <tr>\n",
       "      <th>24982</th>\n",
       "      <td>56107</td>\n",
       "      <td>Kaijuu Sekai Seifuku</td>\n",
       "      <td>['Slice of Life']</td>\n",
       "      <td>Follows four dragon-like monsters who came to ...</td>\n",
       "      <td>[]</td>\n",
       "      <td>[]</td>\n",
       "    </tr>\n",
       "    <tr>\n",
       "      <th>24983</th>\n",
       "      <td>56168</td>\n",
       "      <td>Yotsukado no Melody</td>\n",
       "      <td>[]</td>\n",
       "      <td>Music video for the song Yotsukado no Melody b...</td>\n",
       "      <td>['NHK']</td>\n",
       "      <td>[]</td>\n",
       "    </tr>\n",
       "    <tr>\n",
       "      <th>24984</th>\n",
       "      <td>56202</td>\n",
       "      <td>Ame to Kusari</td>\n",
       "      <td>['Drama']</td>\n",
       "      <td>Music video for the song Ame to Kusari by otetsu.</td>\n",
       "      <td>[]</td>\n",
       "      <td>[]</td>\n",
       "    </tr>\n",
       "  </tbody>\n",
       "</table>\n",
       "<p>24985 rows × 6 columns</p>\n",
       "</div>"
      ],
      "text/plain": [
       "       anime_id                               title  \\\n",
       "0          5114    Fullmetal Alchemist: Brotherhood   \n",
       "1         11061              Hunter x Hunter (2011)   \n",
       "2         38524  Shingeki no Kyojin Season 3 Part 2   \n",
       "3          9253                         Steins;Gate   \n",
       "4         28851                      Koe no Katachi   \n",
       "...         ...                                 ...   \n",
       "24980     54574                             Seizoki   \n",
       "24981     56159                           Kanshajou   \n",
       "24982     56107                Kaijuu Sekai Seifuku   \n",
       "24983     56168                 Yotsukado no Melody   \n",
       "24984     56202                       Ame to Kusari   \n",
       "\n",
       "                                            genres  \\\n",
       "0      ['Action', 'Adventure', 'Drama', 'Fantasy']   \n",
       "1               ['Action', 'Adventure', 'Fantasy']   \n",
       "2                              ['Action', 'Drama']   \n",
       "3                  ['Drama', 'Sci-Fi', 'Suspense']   \n",
       "4                       ['Award Winning', 'Drama']   \n",
       "...                                            ...   \n",
       "24980                              ['Avant Garde']   \n",
       "24981                                           []   \n",
       "24982                            ['Slice of Life']   \n",
       "24983                                           []   \n",
       "24984                                    ['Drama']   \n",
       "\n",
       "                                                synopsis  \\\n",
       "0      After a horrific alchemy experiment goes wrong...   \n",
       "1      Hunters devote themselves to accomplishing haz...   \n",
       "2      Seeking to restore humanity's diminishing hope...   \n",
       "3      Eccentric scientist Rintarou Okabe has a never...   \n",
       "4      As a wild youth, elementary school student Sho...   \n",
       "...                                                  ...   \n",
       "24980  This is an animation using the \"Kaki-mation\" t...   \n",
       "24981  Music video for the song Kanshajou by Reiko Sa...   \n",
       "24982  Follows four dragon-like monsters who came to ...   \n",
       "24983  Music video for the song Yotsukado no Melody b...   \n",
       "24984  Music video for the song Ame to Kusari by otetsu.   \n",
       "\n",
       "                                               producers  \\\n",
       "0      ['Aniplex', 'Square Enix', 'Mainichi Broadcast...   \n",
       "1       ['VAP', 'Nippon Television Network', 'Shueisha']   \n",
       "2      ['Production I.G', 'Dentsu', 'Mainichi Broadca...   \n",
       "3      ['Frontier Works', 'Media Factory', 'Kadokawa ...   \n",
       "4      ['Shochiku', 'Pony Canyon', 'Kodansha', 'ABC A...   \n",
       "...                                                  ...   \n",
       "24980                                                 []   \n",
       "24981                                            ['NHK']   \n",
       "24982                                                 []   \n",
       "24983                                            ['NHK']   \n",
       "24984                                                 []   \n",
       "\n",
       "                                  licensors  \n",
       "0      ['Funimation', 'Aniplex of America']  \n",
       "1                             ['VIZ Media']  \n",
       "2                            ['Funimation']  \n",
       "3                            ['Funimation']  \n",
       "4              ['Eleven Arts', 'NYAV Post']  \n",
       "...                                     ...  \n",
       "24980                                    []  \n",
       "24981                                    []  \n",
       "24982                                    []  \n",
       "24983                                    []  \n",
       "24984                                    []  \n",
       "\n",
       "[24985 rows x 6 columns]"
      ]
     },
     "execution_count": 17,
     "metadata": {},
     "output_type": "execute_result"
    }
   ],
   "source": [
    "anime=anime[['anime_id', 'title','genres', 'synopsis', 'producers', 'licensors']]\n",
    "anime"
   ]
  },
  {
   "cell_type": "code",
   "execution_count": 18,
   "id": "60fcdb3d-8fa3-4f70-b8c0-bef22ab3210d",
   "metadata": {
    "id": "60fcdb3d-8fa3-4f70-b8c0-bef22ab3210d",
    "outputId": "3ac91238-ac06-4300-d334-efeaeed4a510"
   },
   "outputs": [
    {
     "name": "stdout",
     "output_type": "stream",
     "text": [
      "<class 'pandas.core.frame.DataFrame'>\n",
      "RangeIndex: 24985 entries, 0 to 24984\n",
      "Data columns (total 6 columns):\n",
      " #   Column     Non-Null Count  Dtype \n",
      "---  ------     --------------  ----- \n",
      " 0   anime_id   24985 non-null  int64 \n",
      " 1   title      24985 non-null  object\n",
      " 2   genres     24985 non-null  object\n",
      " 3   synopsis   20492 non-null  object\n",
      " 4   producers  24985 non-null  object\n",
      " 5   licensors  24985 non-null  object\n",
      "dtypes: int64(1), object(5)\n",
      "memory usage: 1.1+ MB\n"
     ]
    }
   ],
   "source": [
    "anime.info()"
   ]
  },
  {
   "cell_type": "code",
   "execution_count": 19,
   "id": "32aaa175-f6a2-4311-816b-ca2f9f17ee9c",
   "metadata": {
    "id": "32aaa175-f6a2-4311-816b-ca2f9f17ee9c",
    "outputId": "acb3d837-ea5a-41eb-8400-8711e6580cf4"
   },
   "outputs": [
    {
     "data": {
      "text/plain": [
       "anime_id     0\n",
       "title        0\n",
       "genres       0\n",
       "synopsis     0\n",
       "producers    0\n",
       "licensors    0\n",
       "dtype: int64"
      ]
     },
     "execution_count": 19,
     "metadata": {},
     "output_type": "execute_result"
    }
   ],
   "source": [
    "anime.dropna(inplace=True)\n",
    "anime.isnull().sum()"
   ]
  },
  {
   "cell_type": "code",
   "execution_count": 20,
   "id": "0ed15a33-31d7-45ee-9fdf-6cd111edf13c",
   "metadata": {
    "id": "0ed15a33-31d7-45ee-9fdf-6cd111edf13c",
    "outputId": "044e39ac-a4a1-4974-8c38-ec2efe21b353"
   },
   "outputs": [
    {
     "data": {
      "text/plain": [
       "0      ['Action', 'Adventure', 'Drama', 'Fantasy']\n",
       "1               ['Action', 'Adventure', 'Fantasy']\n",
       "2                              ['Action', 'Drama']\n",
       "3                  ['Drama', 'Sci-Fi', 'Suspense']\n",
       "4                       ['Award Winning', 'Drama']\n",
       "                          ...                     \n",
       "195      ['Adventure', 'Award Winning', 'Fantasy']\n",
       "196             ['Action', 'Adventure', 'Mystery']\n",
       "197          ['Action', 'Fantasy', 'Supernatural']\n",
       "198                 ['Comedy', 'Drama', 'Romance']\n",
       "199                          ['Comedy', 'Romance']\n",
       "Name: genres, Length: 200, dtype: object"
      ]
     },
     "execution_count": 20,
     "metadata": {},
     "output_type": "execute_result"
    }
   ],
   "source": [
    "anime.iloc[0:200].genres"
   ]
  },
  {
   "cell_type": "code",
   "execution_count": 21,
   "id": "e9798d32-8f61-4b73-8edb-e0801d1cb9ed",
   "metadata": {
    "id": "e9798d32-8f61-4b73-8edb-e0801d1cb9ed",
    "outputId": "cf1694dd-403b-4625-aae7-c858585d3b3d"
   },
   "outputs": [
    {
     "name": "stdout",
     "output_type": "stream",
     "text": [
      "<class 'pandas.core.frame.DataFrame'>\n",
      "Index: 20492 entries, 0 to 24984\n",
      "Data columns (total 6 columns):\n",
      " #   Column     Non-Null Count  Dtype \n",
      "---  ------     --------------  ----- \n",
      " 0   anime_id   20492 non-null  int64 \n",
      " 1   title      20492 non-null  object\n",
      " 2   genres     20492 non-null  object\n",
      " 3   synopsis   20492 non-null  object\n",
      " 4   producers  20492 non-null  object\n",
      " 5   licensors  20492 non-null  object\n",
      "dtypes: int64(1), object(5)\n",
      "memory usage: 1.1+ MB\n"
     ]
    }
   ],
   "source": [
    "anime.info()"
   ]
  },
  {
   "cell_type": "code",
   "execution_count": 22,
   "id": "5e69ba1b-8b8d-4013-9f57-a05989782dd5",
   "metadata": {
    "id": "5e69ba1b-8b8d-4013-9f57-a05989782dd5",
    "outputId": "2177443b-5e36-40bf-9a62-84c8817e04bd"
   },
   "outputs": [
    {
     "data": {
      "text/plain": [
       "0        ['Action', 'Adventure', 'Drama', 'Fantasy']\n",
       "1                 ['Action', 'Adventure', 'Fantasy']\n",
       "2                                ['Action', 'Drama']\n",
       "3                    ['Drama', 'Sci-Fi', 'Suspense']\n",
       "4                         ['Award Winning', 'Drama']\n",
       "                            ...                     \n",
       "24980                                ['Avant Garde']\n",
       "24981                                             []\n",
       "24982                              ['Slice of Life']\n",
       "24983                                             []\n",
       "24984                                      ['Drama']\n",
       "Name: genres, Length: 20492, dtype: object"
      ]
     },
     "execution_count": 22,
     "metadata": {},
     "output_type": "execute_result"
    }
   ],
   "source": [
    "anime['genres']"
   ]
  },
  {
   "cell_type": "code",
   "execution_count": 23,
   "id": "aff7acbe-c8f6-4bb2-a83d-6008f5c6d364",
   "metadata": {
    "id": "aff7acbe-c8f6-4bb2-a83d-6008f5c6d364",
    "outputId": "6a4e682f-5524-469f-9e31-b60b3074ced7"
   },
   "outputs": [
    {
     "data": {
      "text/html": [
       "<div>\n",
       "<style scoped>\n",
       "    .dataframe tbody tr th:only-of-type {\n",
       "        vertical-align: middle;\n",
       "    }\n",
       "\n",
       "    .dataframe tbody tr th {\n",
       "        vertical-align: top;\n",
       "    }\n",
       "\n",
       "    .dataframe thead th {\n",
       "        text-align: right;\n",
       "    }\n",
       "</style>\n",
       "<table border=\"1\" class=\"dataframe\">\n",
       "  <thead>\n",
       "    <tr style=\"text-align: right;\">\n",
       "      <th></th>\n",
       "      <th>anime_id</th>\n",
       "      <th>title</th>\n",
       "      <th>genres</th>\n",
       "      <th>synopsis</th>\n",
       "      <th>producers</th>\n",
       "      <th>licensors</th>\n",
       "    </tr>\n",
       "  </thead>\n",
       "  <tbody>\n",
       "    <tr>\n",
       "      <th>0</th>\n",
       "      <td>5114</td>\n",
       "      <td>Fullmetal Alchemist: Brotherhood</td>\n",
       "      <td>[Action, Adventure, Drama, Fantasy]</td>\n",
       "      <td>[After, a, horrific, alchemy, experiment, goes...</td>\n",
       "      <td>[Aniplex, SquareEnix, MainichiBroadcastingSyst...</td>\n",
       "      <td>[Funimation, AniplexofAmerica]</td>\n",
       "    </tr>\n",
       "    <tr>\n",
       "      <th>1</th>\n",
       "      <td>11061</td>\n",
       "      <td>Hunter x Hunter (2011)</td>\n",
       "      <td>[Action, Adventure, Fantasy]</td>\n",
       "      <td>[Hunters, devote, themselves, to, accomplishin...</td>\n",
       "      <td>[VAP, NipponTelevisionNetwork, Shueisha]</td>\n",
       "      <td>[VIZMedia]</td>\n",
       "    </tr>\n",
       "    <tr>\n",
       "      <th>2</th>\n",
       "      <td>38524</td>\n",
       "      <td>Shingeki no Kyojin Season 3 Part 2</td>\n",
       "      <td>[Action, Drama]</td>\n",
       "      <td>[Seeking, to, restore, humanity's, diminishing...</td>\n",
       "      <td>[ProductionI.G, Dentsu, MainichiBroadcastingSy...</td>\n",
       "      <td>[Funimation]</td>\n",
       "    </tr>\n",
       "    <tr>\n",
       "      <th>3</th>\n",
       "      <td>9253</td>\n",
       "      <td>Steins;Gate</td>\n",
       "      <td>[Drama, Sci-Fi, Suspense]</td>\n",
       "      <td>[Eccentric, scientist, Rintarou, Okabe, has, a...</td>\n",
       "      <td>[FrontierWorks, MediaFactory, KadokawaShoten, ...</td>\n",
       "      <td>[Funimation]</td>\n",
       "    </tr>\n",
       "    <tr>\n",
       "      <th>4</th>\n",
       "      <td>28851</td>\n",
       "      <td>Koe no Katachi</td>\n",
       "      <td>[AwardWinning, Drama]</td>\n",
       "      <td>[As, a, wild, youth,, elementary, school, stud...</td>\n",
       "      <td>[Shochiku, PonyCanyon, Kodansha, ABCAnimation,...</td>\n",
       "      <td>[ElevenArts, NYAVPost]</td>\n",
       "    </tr>\n",
       "  </tbody>\n",
       "</table>\n",
       "</div>"
      ],
      "text/plain": [
       "   anime_id                               title  \\\n",
       "0      5114    Fullmetal Alchemist: Brotherhood   \n",
       "1     11061              Hunter x Hunter (2011)   \n",
       "2     38524  Shingeki no Kyojin Season 3 Part 2   \n",
       "3      9253                         Steins;Gate   \n",
       "4     28851                      Koe no Katachi   \n",
       "\n",
       "                                genres  \\\n",
       "0  [Action, Adventure, Drama, Fantasy]   \n",
       "1         [Action, Adventure, Fantasy]   \n",
       "2                      [Action, Drama]   \n",
       "3            [Drama, Sci-Fi, Suspense]   \n",
       "4                [AwardWinning, Drama]   \n",
       "\n",
       "                                            synopsis  \\\n",
       "0  [After, a, horrific, alchemy, experiment, goes...   \n",
       "1  [Hunters, devote, themselves, to, accomplishin...   \n",
       "2  [Seeking, to, restore, humanity's, diminishing...   \n",
       "3  [Eccentric, scientist, Rintarou, Okabe, has, a...   \n",
       "4  [As, a, wild, youth,, elementary, school, stud...   \n",
       "\n",
       "                                           producers  \\\n",
       "0  [Aniplex, SquareEnix, MainichiBroadcastingSyst...   \n",
       "1           [VAP, NipponTelevisionNetwork, Shueisha]   \n",
       "2  [ProductionI.G, Dentsu, MainichiBroadcastingSy...   \n",
       "3  [FrontierWorks, MediaFactory, KadokawaShoten, ...   \n",
       "4  [Shochiku, PonyCanyon, Kodansha, ABCAnimation,...   \n",
       "\n",
       "                        licensors  \n",
       "0  [Funimation, AniplexofAmerica]  \n",
       "1                      [VIZMedia]  \n",
       "2                    [Funimation]  \n",
       "3                    [Funimation]  \n",
       "4          [ElevenArts, NYAVPost]  "
      ]
     },
     "execution_count": 23,
     "metadata": {},
     "output_type": "execute_result"
    }
   ],
   "source": [
    "import ast\n",
    "anime['synopsis']=anime['synopsis'].apply(lambda x:x.split())\n",
    "anime['genres']=anime['genres'].apply(lambda x:[i.replace(' ','') for i in ast.literal_eval(x)])\n",
    "anime['producers']=anime['producers'].apply(lambda x:[i.replace(' ','') for i in ast.literal_eval(x)])\n",
    "anime['licensors']=anime['licensors'].apply(lambda x:[i.replace(' ','') for i in ast.literal_eval(x)])\n",
    "anime.head(5)"
   ]
  },
  {
   "cell_type": "code",
   "execution_count": 24,
   "id": "a703760a-a9bf-4f55-bfaa-0f5f6c45c342",
   "metadata": {
    "id": "a703760a-a9bf-4f55-bfaa-0f5f6c45c342",
    "outputId": "e29793eb-7a69-4b2c-ac82-dcdc2b310ab8"
   },
   "outputs": [
    {
     "data": {
      "text/plain": [
       "0        [After, a, horrific, alchemy, experiment, goes...\n",
       "1        [Hunters, devote, themselves, to, accomplishin...\n",
       "2        [Seeking, to, restore, humanity's, diminishing...\n",
       "3        [Eccentric, scientist, Rintarou, Okabe, has, a...\n",
       "4        [As, a, wild, youth,, elementary, school, stud...\n",
       "                               ...                        \n",
       "24980    [This, is, an, animation, using, the, \"Kaki-ma...\n",
       "24981    [Music, video, for, the, song, Kanshajou, by, ...\n",
       "24982    [Follows, four, dragon-like, monsters, who, ca...\n",
       "24983    [Music, video, for, the, song, Yotsukado, no, ...\n",
       "24984    [Music, video, for, the, song, Ame, to, Kusari...\n",
       "Name: synopsis, Length: 20492, dtype: object"
      ]
     },
     "execution_count": 24,
     "metadata": {},
     "output_type": "execute_result"
    }
   ],
   "source": [
    "anime['synopsis']"
   ]
  },
  {
   "cell_type": "code",
   "execution_count": 25,
   "id": "4948fe2d-cad6-43ca-a1d9-1ea21887ab81",
   "metadata": {
    "id": "4948fe2d-cad6-43ca-a1d9-1ea21887ab81"
   },
   "outputs": [],
   "source": [
    "# anime['tags']=anime['synopsis']+anime['genres']+anime['producers']+anime['licensors']"
   ]
  },
  {
   "cell_type": "code",
   "execution_count": 26,
   "id": "60120d6c-2774-49fd-8c53-899d5125d06d",
   "metadata": {
    "id": "60120d6c-2774-49fd-8c53-899d5125d06d",
    "outputId": "adc0006e-1867-4967-a30a-e0a6b194876a",
    "scrolled": true
   },
   "outputs": [
    {
     "data": {
      "text/plain": [
       "0        [After, a, horrific, alchemy, experiment, goes...\n",
       "1        [Hunters, devote, themselves, to, accomplishin...\n",
       "2        [Seeking, to, restore, humanity's, diminishing...\n",
       "3        [Eccentric, scientist, Rintarou, Okabe, has, a...\n",
       "4        [As, a, wild, youth,, elementary, school, stud...\n",
       "                               ...                        \n",
       "24980    [This, is, an, animation, using, the, \"Kaki-ma...\n",
       "24981    [Music, video, for, the, song, Kanshajou, by, ...\n",
       "24982    [Follows, four, dragon-like, monsters, who, ca...\n",
       "24983    [Music, video, for, the, song, Yotsukado, no, ...\n",
       "24984    [Music, video, for, the, song, Ame, to, Kusari...\n",
       "Name: synopsis, Length: 20492, dtype: object"
      ]
     },
     "execution_count": 26,
     "metadata": {},
     "output_type": "execute_result"
    }
   ],
   "source": [
    "anime['synopsis']"
   ]
  },
  {
   "cell_type": "code",
   "execution_count": 27,
   "id": "6e910b2a-409e-417a-9241-21d533601164",
   "metadata": {
    "id": "6e910b2a-409e-417a-9241-21d533601164",
    "outputId": "8737f09e-c7e7-4a26-836c-db7dca21236c"
   },
   "outputs": [
    {
     "data": {
      "text/html": [
       "<div>\n",
       "<style scoped>\n",
       "    .dataframe tbody tr th:only-of-type {\n",
       "        vertical-align: middle;\n",
       "    }\n",
       "\n",
       "    .dataframe tbody tr th {\n",
       "        vertical-align: top;\n",
       "    }\n",
       "\n",
       "    .dataframe thead th {\n",
       "        text-align: right;\n",
       "    }\n",
       "</style>\n",
       "<table border=\"1\" class=\"dataframe\">\n",
       "  <thead>\n",
       "    <tr style=\"text-align: right;\">\n",
       "      <th></th>\n",
       "      <th>anime_id</th>\n",
       "      <th>title</th>\n",
       "      <th>genres</th>\n",
       "      <th>synopsis</th>\n",
       "      <th>producers</th>\n",
       "      <th>licensors</th>\n",
       "    </tr>\n",
       "  </thead>\n",
       "  <tbody>\n",
       "    <tr>\n",
       "      <th>0</th>\n",
       "      <td>5114</td>\n",
       "      <td>Fullmetal Alchemist: Brotherhood</td>\n",
       "      <td>[Action, Adventure, Drama, Fantasy]</td>\n",
       "      <td>[After, a, horrific, alchemy, experiment, goes...</td>\n",
       "      <td>[Aniplex, SquareEnix, MainichiBroadcastingSyst...</td>\n",
       "      <td>[Funimation, AniplexofAmerica]</td>\n",
       "    </tr>\n",
       "    <tr>\n",
       "      <th>1</th>\n",
       "      <td>11061</td>\n",
       "      <td>Hunter x Hunter (2011)</td>\n",
       "      <td>[Action, Adventure, Fantasy]</td>\n",
       "      <td>[Hunters, devote, themselves, to, accomplishin...</td>\n",
       "      <td>[VAP, NipponTelevisionNetwork, Shueisha]</td>\n",
       "      <td>[VIZMedia]</td>\n",
       "    </tr>\n",
       "    <tr>\n",
       "      <th>2</th>\n",
       "      <td>38524</td>\n",
       "      <td>Shingeki no Kyojin Season 3 Part 2</td>\n",
       "      <td>[Action, Drama]</td>\n",
       "      <td>[Seeking, to, restore, humanity's, diminishing...</td>\n",
       "      <td>[ProductionI.G, Dentsu, MainichiBroadcastingSy...</td>\n",
       "      <td>[Funimation]</td>\n",
       "    </tr>\n",
       "    <tr>\n",
       "      <th>3</th>\n",
       "      <td>9253</td>\n",
       "      <td>Steins;Gate</td>\n",
       "      <td>[Drama, Sci-Fi, Suspense]</td>\n",
       "      <td>[Eccentric, scientist, Rintarou, Okabe, has, a...</td>\n",
       "      <td>[FrontierWorks, MediaFactory, KadokawaShoten, ...</td>\n",
       "      <td>[Funimation]</td>\n",
       "    </tr>\n",
       "    <tr>\n",
       "      <th>4</th>\n",
       "      <td>28851</td>\n",
       "      <td>Koe no Katachi</td>\n",
       "      <td>[AwardWinning, Drama]</td>\n",
       "      <td>[As, a, wild, youth,, elementary, school, stud...</td>\n",
       "      <td>[Shochiku, PonyCanyon, Kodansha, ABCAnimation,...</td>\n",
       "      <td>[ElevenArts, NYAVPost]</td>\n",
       "    </tr>\n",
       "  </tbody>\n",
       "</table>\n",
       "</div>"
      ],
      "text/plain": [
       "   anime_id                               title  \\\n",
       "0      5114    Fullmetal Alchemist: Brotherhood   \n",
       "1     11061              Hunter x Hunter (2011)   \n",
       "2     38524  Shingeki no Kyojin Season 3 Part 2   \n",
       "3      9253                         Steins;Gate   \n",
       "4     28851                      Koe no Katachi   \n",
       "\n",
       "                                genres  \\\n",
       "0  [Action, Adventure, Drama, Fantasy]   \n",
       "1         [Action, Adventure, Fantasy]   \n",
       "2                      [Action, Drama]   \n",
       "3            [Drama, Sci-Fi, Suspense]   \n",
       "4                [AwardWinning, Drama]   \n",
       "\n",
       "                                            synopsis  \\\n",
       "0  [After, a, horrific, alchemy, experiment, goes...   \n",
       "1  [Hunters, devote, themselves, to, accomplishin...   \n",
       "2  [Seeking, to, restore, humanity's, diminishing...   \n",
       "3  [Eccentric, scientist, Rintarou, Okabe, has, a...   \n",
       "4  [As, a, wild, youth,, elementary, school, stud...   \n",
       "\n",
       "                                           producers  \\\n",
       "0  [Aniplex, SquareEnix, MainichiBroadcastingSyst...   \n",
       "1           [VAP, NipponTelevisionNetwork, Shueisha]   \n",
       "2  [ProductionI.G, Dentsu, MainichiBroadcastingSy...   \n",
       "3  [FrontierWorks, MediaFactory, KadokawaShoten, ...   \n",
       "4  [Shochiku, PonyCanyon, Kodansha, ABCAnimation,...   \n",
       "\n",
       "                        licensors  \n",
       "0  [Funimation, AniplexofAmerica]  \n",
       "1                      [VIZMedia]  \n",
       "2                    [Funimation]  \n",
       "3                    [Funimation]  \n",
       "4          [ElevenArts, NYAVPost]  "
      ]
     },
     "execution_count": 27,
     "metadata": {},
     "output_type": "execute_result"
    }
   ],
   "source": [
    "anime.head()"
   ]
  },
  {
   "cell_type": "code",
   "execution_count": 28,
   "id": "77e5d287-9f04-437d-9c42-b2772ad19c54",
   "metadata": {},
   "outputs": [],
   "source": [
    "anime['tags']=anime['synopsis']+anime['genres']+anime['producers']+anime['licensors']\n",
    "anime['mainpic']=posters['main_picture']"
   ]
  },
  {
   "cell_type": "code",
   "execution_count": 29,
   "id": "2446aad8-be6c-4d55-a472-cc33ec54e798",
   "metadata": {
    "scrolled": true
   },
   "outputs": [],
   "source": [
    "new_df = anime[['anime_id', 'title','tags','mainpic']]\n",
    "new_df['tags']=new_df['tags'].apply(lambda x:\" \".join(x))\n",
    "new_df\n",
    "import pickle\n",
    "pickle.dump(new_df.to_dict(), open('Anime_dict.pkl', 'wb'))"
   ]
  },
  {
   "cell_type": "code",
   "execution_count": 30,
   "id": "5d520496-49f5-45e3-9b9f-2aae4a13461f",
   "metadata": {
    "id": "5d520496-49f5-45e3-9b9f-2aae4a13461f"
   },
   "outputs": [
    {
     "data": {
      "text/plain": [
       "array([[0, 0, 0, ..., 0, 0, 0],\n",
       "       [0, 0, 0, ..., 0, 0, 0],\n",
       "       [0, 0, 0, ..., 0, 0, 0],\n",
       "       ...,\n",
       "       [0, 0, 0, ..., 0, 0, 0],\n",
       "       [0, 0, 0, ..., 0, 0, 0],\n",
       "       [0, 0, 0, ..., 0, 0, 0]], dtype=int64)"
      ]
     },
     "execution_count": 30,
     "metadata": {},
     "output_type": "execute_result"
    }
   ],
   "source": [
    "\n",
    "from sklearn.feature_extraction.text import CountVectorizer\n",
    "cv = CountVectorizer(max_features=15900, stop_words='english')\n",
    "vectors=cv.fit_transform(new_df['tags']).toarray()\n",
    "vectors\n"
   ]
  },
  {
   "cell_type": "code",
   "execution_count": 31,
   "id": "a9c7e18a-07e5-4f57-95c0-9f9894d21d68",
   "metadata": {},
   "outputs": [
    {
     "data": {
      "text/plain": [
       "array(['00', '000', '0079', ..., 'éclair', 'état', 'źooļ'], dtype=object)"
      ]
     },
     "execution_count": 31,
     "metadata": {},
     "output_type": "execute_result"
    }
   ],
   "source": [
    "cv.get_feature_names_out()"
   ]
  },
  {
   "cell_type": "code",
   "execution_count": 32,
   "id": "fd399869-73a8-451f-bea2-b0a4c5a3526b",
   "metadata": {
    "scrolled": true
   },
   "outputs": [
    {
     "data": {
      "text/plain": [
       "array([[0, 0, 0, ..., 0, 0, 0],\n",
       "       [0, 0, 0, ..., 0, 0, 0],\n",
       "       [0, 0, 0, ..., 0, 0, 0],\n",
       "       ...,\n",
       "       [0, 0, 0, ..., 0, 0, 0],\n",
       "       [0, 0, 0, ..., 0, 0, 0],\n",
       "       [0, 0, 0, ..., 0, 0, 0]], dtype=int64)"
      ]
     },
     "execution_count": 32,
     "metadata": {},
     "output_type": "execute_result"
    }
   ],
   "source": [
    "vectors"
   ]
  },
  {
   "cell_type": "code",
   "execution_count": 33,
   "id": "520483a9-ace7-476c-bc92-fee879bbb974",
   "metadata": {},
   "outputs": [],
   "source": [
    "from sklearn.metrics.pairwise import cosine_similarity\n",
    "similarity = cosine_similarity(vectors)\n"
   ]
  },
  {
   "cell_type": "code",
   "execution_count": 34,
   "id": "a7157de4-faac-473d-a03f-cc6f93d06a57",
   "metadata": {},
   "outputs": [
    {
     "name": "stdout",
     "output_type": "stream",
     "text": [
      "Hunter x Hunter (2011)\n",
      "Bogeul Bogeul Bomulseon\n",
      "Gon 2nd Season\n",
      "Tanken Driland\n",
      "Hanyou no Yashahime: Sengoku Otogizoushi - Ni no Shou\n"
     ]
    }
   ],
   "source": [
    "def recommend(anime):\n",
    "    anime_index=new_df[new_df['title']==anime].index[0]\n",
    "    distance=similarity[anime_index]\n",
    "    anime_list = sorted(list(enumerate(distance)), reverse=True, key=lambda x:x[1])[1:6]\n",
    "    \n",
    "    for i in anime_list:\n",
    "        print(new_df.iloc[i[0]].title)\n",
    "\n",
    "recommend('Hunter x Hunter')"
   ]
  },
  {
   "cell_type": "code",
   "execution_count": 35,
   "id": "1c6dea73-38a2-47ae-8c03-4a2a487e0d22",
   "metadata": {},
   "outputs": [],
   "source": [
    "import pickle\n",
    "pickle.dump(similarity, open('Similarity.pkl', 'wb'))"
   ]
  },
  {
   "cell_type": "code",
   "execution_count": null,
   "id": "d3a2998d-dbaf-49f4-8c35-1c831089bae3",
   "metadata": {},
   "outputs": [],
   "source": []
  }
 ],
 "metadata": {
  "colab": {
   "provenance": []
  },
  "kernelspec": {
   "display_name": "Python 3 (ipykernel)",
   "language": "python",
   "name": "python3"
  },
  "language_info": {
   "codemirror_mode": {
    "name": "ipython",
    "version": 3
   },
   "file_extension": ".py",
   "mimetype": "text/x-python",
   "name": "python",
   "nbconvert_exporter": "python",
   "pygments_lexer": "ipython3",
   "version": "3.12.4"
  }
 },
 "nbformat": 4,
 "nbformat_minor": 5
}
